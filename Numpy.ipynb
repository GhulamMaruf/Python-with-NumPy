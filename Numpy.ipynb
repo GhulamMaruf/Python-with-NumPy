{
 "cells": [
  {
   "cell_type": "markdown",
   "id": "cd38d847",
   "metadata": {},
   "source": [
    "# Basic of Numpy"
   ]
  },
  {
   "cell_type": "code",
   "execution_count": 1,
   "id": "143f1ccf",
   "metadata": {},
   "outputs": [],
   "source": [
    "import numpy as np"
   ]
  },
  {
   "cell_type": "markdown",
   "id": "8cd7bde6",
   "metadata": {},
   "source": [
    "\n",
    "# Use array with datatype int"
   ]
  },
  {
   "cell_type": "code",
   "execution_count": 2,
   "id": "40a81563",
   "metadata": {},
   "outputs": [],
   "source": [
    "a = np.array([2,4,5,8],int)"
   ]
  },
  {
   "cell_type": "code",
   "execution_count": 3,
   "id": "b074d612",
   "metadata": {},
   "outputs": [
    {
     "data": {
      "text/plain": [
       "array([2, 4, 5, 8])"
      ]
     },
     "execution_count": 3,
     "metadata": {},
     "output_type": "execute_result"
    }
   ],
   "source": [
    "a"
   ]
  },
  {
   "cell_type": "markdown",
   "id": "80f4fd22",
   "metadata": {},
   "source": [
    "# You can use dtype = float/int or directly only float/int"
   ]
  },
  {
   "cell_type": "markdown",
   "id": "8322f61d",
   "metadata": {},
   "source": [
    "# if there have float but select int it will publish all int.\n",
    "# if there have int but select float all will be float"
   ]
  },
  {
   "cell_type": "code",
   "execution_count": 4,
   "id": "40c719a7",
   "metadata": {},
   "outputs": [],
   "source": [
    "a = np.array([9,4.5,7,9],dtype=float) "
   ]
  },
  {
   "cell_type": "code",
   "execution_count": 5,
   "id": "8f7c59af",
   "metadata": {},
   "outputs": [
    {
     "data": {
      "text/plain": [
       "array([9. , 4.5, 7. , 9. ])"
      ]
     },
     "execution_count": 5,
     "metadata": {},
     "output_type": "execute_result"
    }
   ],
   "source": [
    "a"
   ]
  },
  {
   "cell_type": "markdown",
   "id": "62bff695",
   "metadata": {},
   "source": [
    "# Create 2 dimensional array"
   ]
  },
  {
   "cell_type": "code",
   "execution_count": 6,
   "id": "fc8a4205",
   "metadata": {},
   "outputs": [],
   "source": [
    "b = np.array([[2,3,4,5],[4,8,9,7]])"
   ]
  },
  {
   "cell_type": "markdown",
   "id": "93de7182",
   "metadata": {},
   "source": [
    " # For 2 dimensional array quantity of each dimensional must be same"
   ]
  },
  {
   "cell_type": "code",
   "execution_count": 7,
   "id": "6d42329e",
   "metadata": {},
   "outputs": [
    {
     "data": {
      "text/plain": [
       "array([[2, 3, 4, 5],\n",
       "       [4, 8, 9, 7]])"
      ]
     },
     "execution_count": 7,
     "metadata": {},
     "output_type": "execute_result"
    }
   ],
   "source": [
    "b"
   ]
  },
  {
   "cell_type": "markdown",
   "id": "384684e8",
   "metadata": {},
   "source": [
    "# Find dimension of array"
   ]
  },
  {
   "cell_type": "code",
   "execution_count": 8,
   "id": "c1243159",
   "metadata": {},
   "outputs": [
    {
     "data": {
      "text/plain": [
       "2"
      ]
     },
     "execution_count": 8,
     "metadata": {},
     "output_type": "execute_result"
    }
   ],
   "source": [
    "b.ndim"
   ]
  },
  {
   "cell_type": "markdown",
   "id": "2e14f3a8",
   "metadata": {},
   "source": [
    "# Use ndim for finding array dimension"
   ]
  },
  {
   "cell_type": "code",
   "execution_count": 9,
   "id": "ca3fab0a",
   "metadata": {},
   "outputs": [
    {
     "data": {
      "text/plain": [
       "1"
      ]
     },
     "execution_count": 9,
     "metadata": {},
     "output_type": "execute_result"
    }
   ],
   "source": [
    "a.ndim"
   ]
  },
  {
   "cell_type": "markdown",
   "id": "59c30239",
   "metadata": {},
   "source": [
    "# For finding shape use shape keyword with array"
   ]
  },
  {
   "cell_type": "code",
   "execution_count": 10,
   "id": "24e04274",
   "metadata": {},
   "outputs": [
    {
     "data": {
      "text/plain": [
       "(4,)"
      ]
     },
     "execution_count": 10,
     "metadata": {},
     "output_type": "execute_result"
    }
   ],
   "source": [
    "a.shape"
   ]
  },
  {
   "cell_type": "markdown",
   "id": "0665f31f",
   "metadata": {},
   "source": [
    " # It is 4 because in array a there have 4 int/float"
   ]
  },
  {
   "cell_type": "code",
   "execution_count": 11,
   "id": "616f752b",
   "metadata": {},
   "outputs": [
    {
     "data": {
      "text/plain": [
       "(2, 4)"
      ]
     },
     "execution_count": 11,
     "metadata": {},
     "output_type": "execute_result"
    }
   ],
   "source": [
    "b.shape"
   ]
  },
  {
   "cell_type": "markdown",
   "id": "ea7b7e6e",
   "metadata": {},
   "source": [
    "# It is (2,4) because in array b there have 2 rows and 4 columns"
   ]
  },
  {
   "cell_type": "markdown",
   "id": "1267164b",
   "metadata": {},
   "source": [
    "# -- Find exact datatype --"
   ]
  },
  {
   "cell_type": "code",
   "execution_count": 12,
   "id": "02268e6c",
   "metadata": {},
   "outputs": [],
   "source": [
    "a = np.array([2,3,6,7,8,9],dtype='int16')"
   ]
  },
  {
   "cell_type": "code",
   "execution_count": 13,
   "id": "2024e80d",
   "metadata": {},
   "outputs": [
    {
     "data": {
      "text/plain": [
       "array([2, 3, 6, 7, 8, 9], dtype=int16)"
      ]
     },
     "execution_count": 13,
     "metadata": {},
     "output_type": "execute_result"
    }
   ],
   "source": [
    "a"
   ]
  },
  {
   "cell_type": "code",
   "execution_count": 14,
   "id": "3beecb9b",
   "metadata": {},
   "outputs": [
    {
     "data": {
      "text/plain": [
       "dtype('int16')"
      ]
     },
     "execution_count": 14,
     "metadata": {},
     "output_type": "execute_result"
    }
   ],
   "source": [
    "a.dtype"
   ]
  },
  {
   "cell_type": "code",
   "execution_count": 15,
   "id": "4ffab65d",
   "metadata": {},
   "outputs": [],
   "source": [
    "a = np.array([2,3,6,7,8,9,4,1,56,34,56],dtype='float64')"
   ]
  },
  {
   "cell_type": "markdown",
   "id": "19fe310f",
   "metadata": {},
   "source": [
    "#### Must use dtype=\"float../int..\" , use ' ' or \" \""
   ]
  },
  {
   "cell_type": "code",
   "execution_count": 16,
   "id": "6d01a41b",
   "metadata": {},
   "outputs": [
    {
     "data": {
      "text/plain": [
       "array([ 2.,  3.,  6.,  7.,  8.,  9.,  4.,  1., 56., 34., 56.])"
      ]
     },
     "execution_count": 16,
     "metadata": {},
     "output_type": "execute_result"
    }
   ],
   "source": [
    "a"
   ]
  },
  {
   "cell_type": "code",
   "execution_count": 17,
   "id": "6b029a8d",
   "metadata": {},
   "outputs": [
    {
     "data": {
      "text/plain": [
       "dtype('float64')"
      ]
     },
     "execution_count": 17,
     "metadata": {},
     "output_type": "execute_result"
    }
   ],
   "source": [
    "a.dtype"
   ]
  },
  {
   "cell_type": "markdown",
   "id": "725390c7",
   "metadata": {},
   "source": [
    "# Find size in array"
   ]
  },
  {
   "cell_type": "code",
   "execution_count": 18,
   "id": "e73776f3",
   "metadata": {},
   "outputs": [
    {
     "data": {
      "text/plain": [
       "8"
      ]
     },
     "execution_count": 18,
     "metadata": {},
     "output_type": "execute_result"
    }
   ],
   "source": [
    "a.itemsize"
   ]
  },
  {
   "cell_type": "code",
   "execution_count": 19,
   "id": "108725a2",
   "metadata": {},
   "outputs": [
    {
     "data": {
      "text/plain": [
       "11"
      ]
     },
     "execution_count": 19,
     "metadata": {},
     "output_type": "execute_result"
    }
   ],
   "source": [
    "a.size"
   ]
  },
  {
   "cell_type": "markdown",
   "id": "3d876858",
   "metadata": {},
   "source": [
    "# ***** Ask trainer the difference between size and itemsize *****"
   ]
  },
  {
   "cell_type": "markdown",
   "id": "9ae7d9a5",
   "metadata": {},
   "source": [
    "# -- Accessing or changing spacific element --"
   ]
  },
  {
   "cell_type": "code",
   "execution_count": 20,
   "id": "def239cd",
   "metadata": {},
   "outputs": [],
   "source": [
    "a = np.array([[1,2,3,4,5],[11,22,32,45,12]])"
   ]
  },
  {
   "cell_type": "code",
   "execution_count": 21,
   "id": "4073b50c",
   "metadata": {},
   "outputs": [
    {
     "data": {
      "text/plain": [
       "array([[ 1,  2,  3,  4,  5],\n",
       "       [11, 22, 32, 45, 12]])"
      ]
     },
     "execution_count": 21,
     "metadata": {},
     "output_type": "execute_result"
    }
   ],
   "source": [
    "a"
   ]
  },
  {
   "cell_type": "code",
   "execution_count": 22,
   "id": "b5b5ce42",
   "metadata": {},
   "outputs": [
    {
     "data": {
      "text/plain": [
       "4"
      ]
     },
     "execution_count": 22,
     "metadata": {},
     "output_type": "execute_result"
    }
   ],
   "source": [
    "a[0,3] # 0 for first index (row) and 3 for number 3 index (coloumn)"
   ]
  },
  {
   "cell_type": "code",
   "execution_count": 23,
   "id": "fc7af5fc",
   "metadata": {},
   "outputs": [],
   "source": [
    "a = np.array([[1,2,3,4,5],[2,5,6,7,4],[9,1,3,23,16]])"
   ]
  },
  {
   "cell_type": "code",
   "execution_count": 24,
   "id": "3b81e74d",
   "metadata": {},
   "outputs": [
    {
     "data": {
      "text/plain": [
       "array([[ 1,  2,  3,  4,  5],\n",
       "       [ 2,  5,  6,  7,  4],\n",
       "       [ 9,  1,  3, 23, 16]])"
      ]
     },
     "execution_count": 24,
     "metadata": {},
     "output_type": "execute_result"
    }
   ],
   "source": [
    "a # 3 dimensional array"
   ]
  },
  {
   "cell_type": "code",
   "execution_count": 25,
   "id": "47810d58",
   "metadata": {},
   "outputs": [
    {
     "data": {
      "text/plain": [
       "16"
      ]
     },
     "execution_count": 25,
     "metadata": {},
     "output_type": "execute_result"
    }
   ],
   "source": [
    "a[2,4]"
   ]
  },
  {
   "cell_type": "code",
   "execution_count": 26,
   "id": "3fa3ab86",
   "metadata": {},
   "outputs": [
    {
     "data": {
      "text/plain": [
       "7"
      ]
     },
     "execution_count": 26,
     "metadata": {},
     "output_type": "execute_result"
    }
   ],
   "source": [
    "a[1,3] "
   ]
  },
  {
   "cell_type": "markdown",
   "id": "f9cc2802",
   "metadata": {},
   "source": [
    "# a[row index number, column index number]"
   ]
  },
  {
   "cell_type": "code",
   "execution_count": 27,
   "id": "1264167a",
   "metadata": {},
   "outputs": [
    {
     "data": {
      "text/plain": [
       "1"
      ]
     },
     "execution_count": 27,
     "metadata": {},
     "output_type": "execute_result"
    }
   ],
   "source": [
    "a[-1,-4]"
   ]
  },
  {
   "cell_type": "markdown",
   "id": "55b9f1b5",
   "metadata": {},
   "source": [
    "# Accessing a specific column or row"
   ]
  },
  {
   "cell_type": "code",
   "execution_count": 28,
   "id": "376b0294",
   "metadata": {},
   "outputs": [
    {
     "data": {
      "text/plain": [
       "array([[ 1,  2,  3,  4,  5],\n",
       "       [ 2,  5,  6,  7,  4],\n",
       "       [ 9,  1,  3, 23, 16]])"
      ]
     },
     "execution_count": 28,
     "metadata": {},
     "output_type": "execute_result"
    }
   ],
   "source": [
    "a"
   ]
  },
  {
   "cell_type": "markdown",
   "id": "04555a7f",
   "metadata": {},
   "source": [
    "# Find a specific column - First seclect row index number then put :"
   ]
  },
  {
   "cell_type": "code",
   "execution_count": 29,
   "id": "358e34d7",
   "metadata": {},
   "outputs": [
    {
     "data": {
      "text/plain": [
       "array([ 9,  1,  3, 23, 16])"
      ]
     },
     "execution_count": 29,
     "metadata": {},
     "output_type": "execute_result"
    }
   ],
   "source": [
    "a[2,:]"
   ]
  },
  {
   "cell_type": "code",
   "execution_count": 30,
   "id": "449b3c43",
   "metadata": {},
   "outputs": [
    {
     "data": {
      "text/plain": [
       "array([1, 2, 3, 4, 5])"
      ]
     },
     "execution_count": 30,
     "metadata": {},
     "output_type": "execute_result"
    }
   ],
   "source": [
    "a[-3,:]"
   ]
  },
  {
   "cell_type": "code",
   "execution_count": 293,
   "id": "d5c5c6b9",
   "metadata": {},
   "outputs": [],
   "source": [
    "a = np.array([[1,2,3,4,5],[2,5,6,7,4],[9,1,3,23,16],[10,12,34,54,3]])"
   ]
  },
  {
   "cell_type": "code",
   "execution_count": 294,
   "id": "4767d478",
   "metadata": {},
   "outputs": [
    {
     "data": {
      "text/plain": [
       "array([[ 1,  2,  3,  4,  5],\n",
       "       [ 2,  5,  6,  7,  4],\n",
       "       [ 9,  1,  3, 23, 16],\n",
       "       [10, 12, 34, 54,  3]])"
      ]
     },
     "execution_count": 294,
     "metadata": {},
     "output_type": "execute_result"
    }
   ],
   "source": [
    "a"
   ]
  },
  {
   "cell_type": "code",
   "execution_count": 296,
   "id": "a041ba67",
   "metadata": {},
   "outputs": [
    {
     "data": {
      "text/plain": [
       "array([[ 1,  2,  3,  4],\n",
       "       [ 2,  5,  6,  7],\n",
       "       [ 9,  1,  3, 23]])"
      ]
     },
     "execution_count": 296,
     "metadata": {},
     "output_type": "execute_result"
    }
   ],
   "source": [
    "a[0:3,0:4]"
   ]
  },
  {
   "cell_type": "code",
   "execution_count": 297,
   "id": "df711fc7",
   "metadata": {},
   "outputs": [
    {
     "data": {
      "text/plain": [
       "array([[ 1,  3],\n",
       "       [12, 34]])"
      ]
     },
     "execution_count": 297,
     "metadata": {},
     "output_type": "execute_result"
    }
   ],
   "source": [
    "a[2:4,1:3] # 2:4 for rows and 1:3 for columns (2 start point and 4 end point exclude 4)"
   ]
  },
  {
   "cell_type": "code",
   "execution_count": 298,
   "id": "4038015c",
   "metadata": {},
   "outputs": [
    {
     "data": {
      "text/plain": [
       "array([[ 1,  2,  3,  4,  5],\n",
       "       [ 2,  5,  6,  7,  4],\n",
       "       [ 9,  1,  3, 23, 16],\n",
       "       [10, 12, 34, 54,  3]])"
      ]
     },
     "execution_count": 298,
     "metadata": {},
     "output_type": "execute_result"
    }
   ],
   "source": [
    "a"
   ]
  },
  {
   "cell_type": "markdown",
   "id": "17feca2f",
   "metadata": {},
   "source": [
    "## When you trun array into boolean"
   ]
  },
  {
   "cell_type": "code",
   "execution_count": 299,
   "id": "3eab18e2",
   "metadata": {},
   "outputs": [
    {
     "data": {
      "text/plain": [
       "array([[ 1,  2,  3,  4,  5],\n",
       "       [ 2,  5,  6,  7,  4],\n",
       "       [ 9,  1,  3, 23, 16],\n",
       "       [10, 12, 34, 54,  3]])"
      ]
     },
     "execution_count": 299,
     "metadata": {},
     "output_type": "execute_result"
    }
   ],
   "source": [
    "a"
   ]
  },
  {
   "cell_type": "code",
   "execution_count": 300,
   "id": "0945a656",
   "metadata": {},
   "outputs": [],
   "source": [
    "turn_b = a > 20"
   ]
  },
  {
   "cell_type": "markdown",
   "id": "b8111a1d",
   "metadata": {},
   "source": [
    "## If the statement is True the element will be true rather False"
   ]
  },
  {
   "cell_type": "code",
   "execution_count": 301,
   "id": "6e6e1e05",
   "metadata": {},
   "outputs": [
    {
     "data": {
      "text/plain": [
       "array([[False, False, False, False, False],\n",
       "       [False, False, False, False, False],\n",
       "       [False, False, False,  True, False],\n",
       "       [False, False,  True,  True, False]])"
      ]
     },
     "execution_count": 301,
     "metadata": {},
     "output_type": "execute_result"
    }
   ],
   "source": [
    "turn_b"
   ]
  },
  {
   "cell_type": "code",
   "execution_count": 303,
   "id": "55ee27a7",
   "metadata": {},
   "outputs": [],
   "source": [
    "turn_b = a < 4/2"
   ]
  },
  {
   "cell_type": "code",
   "execution_count": 304,
   "id": "976ce756",
   "metadata": {},
   "outputs": [
    {
     "data": {
      "text/plain": [
       "array([[ True, False, False, False, False],\n",
       "       [False, False, False, False, False],\n",
       "       [False,  True, False, False, False],\n",
       "       [False, False, False, False, False]])"
      ]
     },
     "execution_count": 304,
     "metadata": {},
     "output_type": "execute_result"
    }
   ],
   "source": [
    "turn_b"
   ]
  },
  {
   "cell_type": "markdown",
   "id": "92162db8",
   "metadata": {},
   "source": [
    "# Find a column with stepsize"
   ]
  },
  {
   "cell_type": "code",
   "execution_count": 31,
   "id": "b8970e0b",
   "metadata": {},
   "outputs": [
    {
     "data": {
      "text/plain": [
       "array([[ 1,  2,  3,  4,  5],\n",
       "       [ 2,  5,  6,  7,  4],\n",
       "       [ 9,  1,  3, 23, 16]])"
      ]
     },
     "execution_count": 31,
     "metadata": {},
     "output_type": "execute_result"
    }
   ],
   "source": [
    "a"
   ]
  },
  {
   "cell_type": "code",
   "execution_count": 32,
   "id": "aa85607f",
   "metadata": {},
   "outputs": [
    {
     "data": {
      "text/plain": [
       "array([2, 4])"
      ]
     },
     "execution_count": 32,
     "metadata": {},
     "output_type": "execute_result"
    }
   ],
   "source": [
    "a[0, 1:4:2]"
   ]
  },
  {
   "cell_type": "code",
   "execution_count": 33,
   "id": "a615f4f9",
   "metadata": {},
   "outputs": [],
   "source": [
    "b = np.array([3,5,7,8,1,6,9])"
   ]
  },
  {
   "cell_type": "code",
   "execution_count": 34,
   "id": "f532850c",
   "metadata": {},
   "outputs": [
    {
     "data": {
      "text/plain": [
       "array([3, 5, 7, 8, 1, 6, 9])"
      ]
     },
     "execution_count": 34,
     "metadata": {},
     "output_type": "execute_result"
    }
   ],
   "source": [
    "b"
   ]
  },
  {
   "cell_type": "code",
   "execution_count": 35,
   "id": "d85dfb7f",
   "metadata": {},
   "outputs": [],
   "source": [
    "b = np.array([[3,5,7,8,1,6,9],[8,5,6,98,2,3,1],[23,56,78,12,3,4,7]])"
   ]
  },
  {
   "cell_type": "code",
   "execution_count": 36,
   "id": "290e2f31",
   "metadata": {},
   "outputs": [
    {
     "data": {
      "text/plain": [
       "array([[ 3,  5,  7,  8,  1,  6,  9],\n",
       "       [ 8,  5,  6, 98,  2,  3,  1],\n",
       "       [23, 56, 78, 12,  3,  4,  7]])"
      ]
     },
     "execution_count": 36,
     "metadata": {},
     "output_type": "execute_result"
    }
   ],
   "source": [
    "b"
   ]
  },
  {
   "cell_type": "markdown",
   "id": "510d8250",
   "metadata": {},
   "source": [
    "# b[index number, starting column index number : ending column index number : stepsize]"
   ]
  },
  {
   "cell_type": "code",
   "execution_count": 37,
   "id": "a909243e",
   "metadata": {},
   "outputs": [
    {
     "data": {
      "text/plain": [
       "array([12,  3,  4])"
      ]
     },
     "execution_count": 37,
     "metadata": {},
     "output_type": "execute_result"
    }
   ],
   "source": [
    "b[2,3:6:1]"
   ]
  },
  {
   "cell_type": "markdown",
   "id": "4b6467cb",
   "metadata": {},
   "source": [
    "# Replace any element "
   ]
  },
  {
   "cell_type": "code",
   "execution_count": 38,
   "id": "6f556720",
   "metadata": {},
   "outputs": [
    {
     "data": {
      "text/plain": [
       "array([[ 3,  5,  7,  8,  1,  6,  9],\n",
       "       [ 8,  5,  6, 98,  2,  3,  1],\n",
       "       [23, 56, 78, 12,  3,  4,  7]])"
      ]
     },
     "execution_count": 38,
     "metadata": {},
     "output_type": "execute_result"
    }
   ],
   "source": [
    "b"
   ]
  },
  {
   "cell_type": "markdown",
   "id": "f6d0e939",
   "metadata": {},
   "source": [
    "# b[row index number, column index number] = value"
   ]
  },
  {
   "cell_type": "code",
   "execution_count": 39,
   "id": "554ad414",
   "metadata": {},
   "outputs": [],
   "source": [
    "b[2,3] = 15"
   ]
  },
  {
   "cell_type": "code",
   "execution_count": 40,
   "id": "8bb3af57",
   "metadata": {},
   "outputs": [
    {
     "data": {
      "text/plain": [
       "array([[ 3,  5,  7,  8,  1,  6,  9],\n",
       "       [ 8,  5,  6, 98,  2,  3,  1],\n",
       "       [23, 56, 78, 15,  3,  4,  7]])"
      ]
     },
     "execution_count": 40,
     "metadata": {},
     "output_type": "execute_result"
    }
   ],
   "source": [
    "b"
   ]
  },
  {
   "cell_type": "code",
   "execution_count": 41,
   "id": "5dbdbf8d",
   "metadata": {},
   "outputs": [],
   "source": [
    "b[0,0] = 10 "
   ]
  },
  {
   "cell_type": "markdown",
   "id": "59e0ac7b",
   "metadata": {},
   "source": [
    "# Row index number 0 and column index number 0"
   ]
  },
  {
   "cell_type": "code",
   "execution_count": 42,
   "id": "f217c7d8",
   "metadata": {},
   "outputs": [
    {
     "data": {
      "text/plain": [
       "array([[10,  5,  7,  8,  1,  6,  9],\n",
       "       [ 8,  5,  6, 98,  2,  3,  1],\n",
       "       [23, 56, 78, 15,  3,  4,  7]])"
      ]
     },
     "execution_count": 42,
     "metadata": {},
     "output_type": "execute_result"
    }
   ],
   "source": [
    "b"
   ]
  },
  {
   "cell_type": "markdown",
   "id": "98b176e4",
   "metadata": {},
   "source": [
    "# Select any column or specific column"
   ]
  },
  {
   "cell_type": "code",
   "execution_count": 43,
   "id": "51a1d473",
   "metadata": {},
   "outputs": [
    {
     "data": {
      "text/plain": [
       "array([[10,  5,  7,  8,  1,  6,  9]])"
      ]
     },
     "execution_count": 43,
     "metadata": {},
     "output_type": "execute_result"
    }
   ],
   "source": [
    "b[:1] # Row index is blank that means there have o , it should be write like b[0:1]"
   ]
  },
  {
   "cell_type": "code",
   "execution_count": 44,
   "id": "d00340db",
   "metadata": {},
   "outputs": [],
   "source": [
    "# Row index number : that means it will show all the rest including index number 1"
   ]
  },
  {
   "cell_type": "code",
   "execution_count": 45,
   "id": "d6ae8528",
   "metadata": {},
   "outputs": [
    {
     "data": {
      "text/plain": [
       "array([[ 8,  5,  6, 98,  2,  3,  1],\n",
       "       [23, 56, 78, 15,  3,  4,  7]])"
      ]
     },
     "execution_count": 45,
     "metadata": {},
     "output_type": "execute_result"
    }
   ],
   "source": [
    "b[1:] "
   ]
  },
  {
   "cell_type": "code",
   "execution_count": null,
   "id": "4ce90d18",
   "metadata": {},
   "outputs": [],
   "source": []
  },
  {
   "cell_type": "code",
   "execution_count": 46,
   "id": "9543e7ed",
   "metadata": {},
   "outputs": [
    {
     "data": {
      "text/plain": [
       "array([[10,  5,  7,  8,  1,  6,  9],\n",
       "       [ 8,  5,  6, 98,  2,  3,  1],\n",
       "       [23, 56, 78, 15,  3,  4,  7]])"
      ]
     },
     "execution_count": 46,
     "metadata": {},
     "output_type": "execute_result"
    }
   ],
   "source": [
    "b"
   ]
  },
  {
   "cell_type": "markdown",
   "id": "4d656bc6",
   "metadata": {},
   "source": [
    "# Here : mean all rows and 2 is for column index number, number will be same for that index\n"
   ]
  },
  {
   "cell_type": "code",
   "execution_count": 47,
   "id": "d41898c1",
   "metadata": {},
   "outputs": [],
   "source": [
    "b[:,2] = 10"
   ]
  },
  {
   "cell_type": "code",
   "execution_count": 48,
   "id": "b34ff90c",
   "metadata": {},
   "outputs": [
    {
     "data": {
      "text/plain": [
       "array([[10,  5, 10,  8,  1,  6,  9],\n",
       "       [ 8,  5, 10, 98,  2,  3,  1],\n",
       "       [23, 56, 10, 15,  3,  4,  7]])"
      ]
     },
     "execution_count": 48,
     "metadata": {},
     "output_type": "execute_result"
    }
   ],
   "source": [
    "b"
   ]
  },
  {
   "cell_type": "code",
   "execution_count": 49,
   "id": "cfe32db4",
   "metadata": {},
   "outputs": [],
   "source": [
    "b[:,6] = [5,1,3]"
   ]
  },
  {
   "cell_type": "code",
   "execution_count": 50,
   "id": "edc65f8b",
   "metadata": {},
   "outputs": [],
   "source": [
    " # Must write equal quantity of index number if you want to show different number for different index"
   ]
  },
  {
   "cell_type": "code",
   "execution_count": 51,
   "id": "cbd90b66",
   "metadata": {},
   "outputs": [
    {
     "data": {
      "text/plain": [
       "array([[10,  5, 10,  8,  1,  6,  5],\n",
       "       [ 8,  5, 10, 98,  2,  3,  1],\n",
       "       [23, 56, 10, 15,  3,  4,  3]])"
      ]
     },
     "execution_count": 51,
     "metadata": {},
     "output_type": "execute_result"
    }
   ],
   "source": [
    "b"
   ]
  },
  {
   "cell_type": "markdown",
   "id": "2948eaed",
   "metadata": {},
   "source": [
    "# Create 3-D array"
   ]
  },
  {
   "cell_type": "code",
   "execution_count": 52,
   "id": "0fa7eb16",
   "metadata": {},
   "outputs": [],
   "source": [
    "a = np.array([[[19,10,4,2],[12,56,32,1]],[[9,4,1,7],[2,4,7,8]]])"
   ]
  },
  {
   "cell_type": "code",
   "execution_count": 53,
   "id": "7c8003b4",
   "metadata": {},
   "outputs": [
    {
     "name": "stdout",
     "output_type": "stream",
     "text": [
      "[[[19 10  4  2]\n",
      "  [12 56 32  1]]\n",
      "\n",
      " [[ 9  4  1  7]\n",
      "  [ 2  4  7  8]]]\n"
     ]
    }
   ],
   "source": [
    "print(a)"
   ]
  },
  {
   "cell_type": "markdown",
   "id": "6bfb4c1a",
   "metadata": {},
   "source": [
    "# Here 0 index is [[[19 10  4  2]  [12 56 32  1]] and 1 is second index of 0 index array\n",
    " "
   ]
  },
  {
   "cell_type": "code",
   "execution_count": 54,
   "id": "c02f8193",
   "metadata": {},
   "outputs": [
    {
     "data": {
      "text/plain": [
       "32"
      ]
     },
     "execution_count": 54,
     "metadata": {},
     "output_type": "execute_result"
    }
   ],
   "source": [
    "a[0,1,2]"
   ]
  },
  {
   "cell_type": "markdown",
   "id": "c1a988fd",
   "metadata": {},
   "source": [
    "# 0  = first index and 1 = first index of 0 index, 2 = column index of 1 number index"
   ]
  },
  {
   "cell_type": "code",
   "execution_count": 55,
   "id": "d47b8576",
   "metadata": {},
   "outputs": [
    {
     "data": {
      "text/plain": [
       "array([12, 56, 32])"
      ]
     },
     "execution_count": 55,
     "metadata": {},
     "output_type": "execute_result"
    }
   ],
   "source": [
    "a[0,1,:3]"
   ]
  },
  {
   "cell_type": "code",
   "execution_count": 56,
   "id": "6abd6bc3",
   "metadata": {},
   "outputs": [],
   "source": [
    "# :3 means it will show before elements of index 3 including 3"
   ]
  },
  {
   "cell_type": "code",
   "execution_count": 57,
   "id": "e724e3f9",
   "metadata": {},
   "outputs": [
    {
     "data": {
      "text/plain": [
       "array([[[19, 10,  4,  2],\n",
       "        [12, 56, 32,  1]],\n",
       "\n",
       "       [[ 9,  4,  1,  7],\n",
       "        [ 2,  4,  7,  8]]])"
      ]
     },
     "execution_count": 57,
     "metadata": {},
     "output_type": "execute_result"
    }
   ],
   "source": [
    "a"
   ]
  },
  {
   "cell_type": "code",
   "execution_count": 58,
   "id": "0b460b02",
   "metadata": {},
   "outputs": [
    {
     "data": {
      "text/plain": [
       "8"
      ]
     },
     "execution_count": 58,
     "metadata": {},
     "output_type": "execute_result"
    }
   ],
   "source": [
    "a[1,1,3]"
   ]
  },
  {
   "cell_type": "code",
   "execution_count": 59,
   "id": "734d8280",
   "metadata": {},
   "outputs": [
    {
     "data": {
      "text/plain": [
       "array([4, 1, 7])"
      ]
     },
     "execution_count": 59,
     "metadata": {},
     "output_type": "execute_result"
    }
   ],
   "source": [
    "a[1,0,1:]"
   ]
  },
  {
   "cell_type": "code",
   "execution_count": 60,
   "id": "360c7cfc",
   "metadata": {},
   "outputs": [
    {
     "data": {
      "text/plain": [
       "array([[[19, 10,  4,  2],\n",
       "        [12, 56, 32,  1]],\n",
       "\n",
       "       [[ 9,  4,  1,  7],\n",
       "        [ 2,  4,  7,  8]]])"
      ]
     },
     "execution_count": 60,
     "metadata": {},
     "output_type": "execute_result"
    }
   ],
   "source": [
    "a[0:]"
   ]
  },
  {
   "cell_type": "code",
   "execution_count": 61,
   "id": "435b9385",
   "metadata": {},
   "outputs": [
    {
     "data": {
      "text/plain": [
       "array([[[19, 10,  4,  2],\n",
       "        [12, 56, 32,  1]]])"
      ]
     },
     "execution_count": 61,
     "metadata": {},
     "output_type": "execute_result"
    }
   ],
   "source": [
    "a[:1] # Except the 1 index number it will show before elements"
   ]
  },
  {
   "cell_type": "code",
   "execution_count": 62,
   "id": "37160984",
   "metadata": {},
   "outputs": [
    {
     "data": {
      "text/plain": [
       "array([[[19, 10,  4,  2],\n",
       "        [12, 56, 32,  1]],\n",
       "\n",
       "       [[ 9,  4,  1,  7],\n",
       "        [ 2,  4,  7,  8]]])"
      ]
     },
     "execution_count": 62,
     "metadata": {},
     "output_type": "execute_result"
    }
   ],
   "source": [
    "a[:]"
   ]
  },
  {
   "cell_type": "markdown",
   "id": "740066c1",
   "metadata": {},
   "source": [
    "# Show full columns of number 1 index in both arrays"
   ]
  },
  {
   "cell_type": "code",
   "execution_count": 63,
   "id": "89d3ef16",
   "metadata": {},
   "outputs": [
    {
     "data": {
      "text/plain": [
       "array([[12, 56, 32,  1],\n",
       "       [ 2,  4,  7,  8]])"
      ]
     },
     "execution_count": 63,
     "metadata": {},
     "output_type": "execute_result"
    }
   ],
   "source": [
    "a[:,1,:]"
   ]
  },
  {
   "cell_type": "code",
   "execution_count": 64,
   "id": "3aa2c585",
   "metadata": {},
   "outputs": [
    {
     "data": {
      "text/plain": [
       "array([[19, 10,  4,  2],\n",
       "       [ 9,  4,  1,  7]])"
      ]
     },
     "execution_count": 64,
     "metadata": {},
     "output_type": "execute_result"
    }
   ],
   "source": [
    "a[:,0,:]"
   ]
  },
  {
   "cell_type": "code",
   "execution_count": 65,
   "id": "e24b8e46",
   "metadata": {},
   "outputs": [
    {
     "data": {
      "text/plain": [
       "array([[[19, 10,  4,  2],\n",
       "        [12, 56, 32,  1]],\n",
       "\n",
       "       [[ 9,  4,  1,  7],\n",
       "        [ 2,  4,  7,  8]]])"
      ]
     },
     "execution_count": 65,
     "metadata": {},
     "output_type": "execute_result"
    }
   ],
   "source": [
    "a"
   ]
  },
  {
   "cell_type": "code",
   "execution_count": 66,
   "id": "e5c58025",
   "metadata": {},
   "outputs": [
    {
     "data": {
      "text/plain": [
       "array([4, 1])"
      ]
     },
     "execution_count": 66,
     "metadata": {},
     "output_type": "execute_result"
    }
   ],
   "source": [
    "a[:,0,2]"
   ]
  },
  {
   "cell_type": "code",
   "execution_count": 67,
   "id": "175d9dc8",
   "metadata": {},
   "outputs": [
    {
     "data": {
      "text/plain": [
       "array([1, 8])"
      ]
     },
     "execution_count": 67,
     "metadata": {},
     "output_type": "execute_result"
    }
   ],
   "source": [
    "a[:,1,3]"
   ]
  },
  {
   "cell_type": "markdown",
   "id": "8ca99bfc",
   "metadata": {},
   "source": [
    "# Replace with new numbers"
   ]
  },
  {
   "cell_type": "code",
   "execution_count": 68,
   "id": "8d85af4e",
   "metadata": {},
   "outputs": [],
   "source": [
    "a[:,1,3] = [4,5]"
   ]
  },
  {
   "cell_type": "code",
   "execution_count": 69,
   "id": "886082fa",
   "metadata": {},
   "outputs": [
    {
     "data": {
      "text/plain": [
       "array([[[19, 10,  4,  2],\n",
       "        [12, 56, 32,  4]],\n",
       "\n",
       "       [[ 9,  4,  1,  7],\n",
       "        [ 2,  4,  7,  5]]])"
      ]
     },
     "execution_count": 69,
     "metadata": {},
     "output_type": "execute_result"
    }
   ],
   "source": [
    "a"
   ]
  },
  {
   "cell_type": "markdown",
   "id": "e4db1e21",
   "metadata": {},
   "source": [
    "# -- Inilialize different types of array -- NP.ZEROS"
   ]
  },
  {
   "cell_type": "code",
   "execution_count": 70,
   "id": "9c89718e",
   "metadata": {},
   "outputs": [],
   "source": [
    "a = np.zeros(6)"
   ]
  },
  {
   "cell_type": "code",
   "execution_count": 71,
   "id": "8b9719a1",
   "metadata": {},
   "outputs": [],
   "source": [
    "# You can mention it int or float like np.zeros(6,int/float)"
   ]
  },
  {
   "cell_type": "code",
   "execution_count": 72,
   "id": "296c19bd",
   "metadata": {},
   "outputs": [
    {
     "data": {
      "text/plain": [
       "array([0., 0., 0., 0., 0., 0.])"
      ]
     },
     "execution_count": 72,
     "metadata": {},
     "output_type": "execute_result"
    }
   ],
   "source": [
    "a"
   ]
  },
  {
   "cell_type": "code",
   "execution_count": 149,
   "id": "1638555e",
   "metadata": {},
   "outputs": [],
   "source": [
    "a = np.zeros((3,4,3))"
   ]
  },
  {
   "cell_type": "code",
   "execution_count": 74,
   "id": "b6333189",
   "metadata": {},
   "outputs": [],
   "source": [
    "# 2 is coloum quantity and 3 is row quantity"
   ]
  },
  {
   "cell_type": "code",
   "execution_count": 150,
   "id": "ed71250f",
   "metadata": {},
   "outputs": [
    {
     "data": {
      "text/plain": [
       "array([[[0., 0., 0.],\n",
       "        [0., 0., 0.],\n",
       "        [0., 0., 0.],\n",
       "        [0., 0., 0.]],\n",
       "\n",
       "       [[0., 0., 0.],\n",
       "        [0., 0., 0.],\n",
       "        [0., 0., 0.],\n",
       "        [0., 0., 0.]],\n",
       "\n",
       "       [[0., 0., 0.],\n",
       "        [0., 0., 0.],\n",
       "        [0., 0., 0.],\n",
       "        [0., 0., 0.]]])"
      ]
     },
     "execution_count": 150,
     "metadata": {},
     "output_type": "execute_result"
    }
   ],
   "source": [
    "a"
   ]
  },
  {
   "cell_type": "markdown",
   "id": "80bb557e",
   "metadata": {},
   "source": [
    "# -- Inilialize different types of array -- NP.ONES"
   ]
  },
  {
   "cell_type": "code",
   "execution_count": 76,
   "id": "b15c9fb1",
   "metadata": {},
   "outputs": [],
   "source": [
    "a = np.ones((3,2,4),dtype='int32') # 3 = row and 2 = column"
   ]
  },
  {
   "cell_type": "code",
   "execution_count": 77,
   "id": "e100337b",
   "metadata": {},
   "outputs": [
    {
     "data": {
      "text/plain": [
       "array([[[1, 1, 1, 1],\n",
       "        [1, 1, 1, 1]],\n",
       "\n",
       "       [[1, 1, 1, 1],\n",
       "        [1, 1, 1, 1]],\n",
       "\n",
       "       [[1, 1, 1, 1],\n",
       "        [1, 1, 1, 1]]])"
      ]
     },
     "execution_count": 77,
     "metadata": {},
     "output_type": "execute_result"
    }
   ],
   "source": [
    "a"
   ]
  },
  {
   "cell_type": "markdown",
   "id": "6f5deae8",
   "metadata": {},
   "source": [
    "# Add any number "
   ]
  },
  {
   "cell_type": "code",
   "execution_count": 78,
   "id": "33c853fd",
   "metadata": {},
   "outputs": [],
   "source": [
    "a = np.full((3,2),33)"
   ]
  },
  {
   "cell_type": "code",
   "execution_count": 79,
   "id": "a1c00ba6",
   "metadata": {},
   "outputs": [],
   "source": [
    "# 3 = row count, 2 cols count and 33 inplace of 1"
   ]
  },
  {
   "cell_type": "code",
   "execution_count": 80,
   "id": "9ac94ece",
   "metadata": {},
   "outputs": [
    {
     "data": {
      "text/plain": [
       "array([[33, 33],\n",
       "       [33, 33],\n",
       "       [33, 33]])"
      ]
     },
     "execution_count": 80,
     "metadata": {},
     "output_type": "execute_result"
    }
   ],
   "source": [
    "a"
   ]
  },
  {
   "cell_type": "code",
   "execution_count": 81,
   "id": "40ff0b79",
   "metadata": {},
   "outputs": [
    {
     "data": {
      "text/plain": [
       "array([[2., 2., 2., 2., 2., 2., 2., 2., 2., 2., 2.],\n",
       "       [2., 2., 2., 2., 2., 2., 2., 2., 2., 2., 2.],\n",
       "       [2., 2., 2., 2., 2., 2., 2., 2., 2., 2., 2.],\n",
       "       [2., 2., 2., 2., 2., 2., 2., 2., 2., 2., 2.],\n",
       "       [2., 2., 2., 2., 2., 2., 2., 2., 2., 2., 2.]], dtype=float32)"
      ]
     },
     "execution_count": 81,
     "metadata": {},
     "output_type": "execute_result"
    }
   ],
   "source": [
    "np.full((5,11),2, dtype=\"float32\")"
   ]
  },
  {
   "cell_type": "code",
   "execution_count": 82,
   "id": "e48029a7",
   "metadata": {},
   "outputs": [
    {
     "data": {
      "text/plain": [
       "array([[5., 5., 5., 5., 5., 5.],\n",
       "       [5., 5., 5., 5., 5., 5.],\n",
       "       [5., 5., 5., 5., 5., 5.]])"
      ]
     },
     "execution_count": 82,
     "metadata": {},
     "output_type": "execute_result"
    }
   ],
   "source": [
    "np.full((3,6),5, float)"
   ]
  },
  {
   "cell_type": "code",
   "execution_count": 83,
   "id": "0c4f18dd",
   "metadata": {},
   "outputs": [
    {
     "data": {
      "text/plain": [
       "array([[33, 33],\n",
       "       [33, 33],\n",
       "       [33, 33]])"
      ]
     },
     "execution_count": 83,
     "metadata": {},
     "output_type": "execute_result"
    }
   ],
   "source": [
    "a"
   ]
  },
  {
   "cell_type": "code",
   "execution_count": 84,
   "id": "9e6055d9",
   "metadata": {},
   "outputs": [],
   "source": [
    "a = np.full_like(a,4)"
   ]
  },
  {
   "cell_type": "markdown",
   "id": "cf3a2254",
   "metadata": {},
   "source": [
    "# Convert the remain number with new same number"
   ]
  },
  {
   "cell_type": "markdown",
   "id": "7b53494b",
   "metadata": {},
   "source": [
    "# np.full_like(array name, the number you want to replace)"
   ]
  },
  {
   "cell_type": "code",
   "execution_count": 85,
   "id": "3956f138",
   "metadata": {},
   "outputs": [
    {
     "data": {
      "text/plain": [
       "array([[4, 4],\n",
       "       [4, 4],\n",
       "       [4, 4]])"
      ]
     },
     "execution_count": 85,
     "metadata": {},
     "output_type": "execute_result"
    }
   ],
   "source": [
    "a"
   ]
  },
  {
   "cell_type": "markdown",
   "id": "d1483e59",
   "metadata": {},
   "source": [
    "# -- Show Random numbers -- "
   ]
  },
  {
   "cell_type": "code",
   "execution_count": 86,
   "id": "1b6dbfed",
   "metadata": {},
   "outputs": [],
   "source": [
    "a = np.random.rand()"
   ]
  },
  {
   "cell_type": "code",
   "execution_count": 87,
   "id": "e38c9cb9",
   "metadata": {},
   "outputs": [
    {
     "data": {
      "text/plain": [
       "0.9807715692622172"
      ]
     },
     "execution_count": 87,
     "metadata": {},
     "output_type": "execute_result"
    }
   ],
   "source": [
    "a"
   ]
  },
  {
   "cell_type": "markdown",
   "id": "cff897ed",
   "metadata": {},
   "source": [
    "##### In random function all numbers are less that 1 (one)"
   ]
  },
  {
   "cell_type": "code",
   "execution_count": 88,
   "id": "3d6d2df8",
   "metadata": {},
   "outputs": [],
   "source": [
    "a = np.random.rand(2,3)"
   ]
  },
  {
   "cell_type": "code",
   "execution_count": 89,
   "id": "a70ac084",
   "metadata": {},
   "outputs": [
    {
     "data": {
      "text/plain": [
       "array([[0.29196259, 0.55701744, 0.25897869],\n",
       "       [0.3284004 , 0.85190541, 0.64155861]])"
      ]
     },
     "execution_count": 89,
     "metadata": {},
     "output_type": "execute_result"
    }
   ],
   "source": [
    "a"
   ]
  },
  {
   "cell_type": "markdown",
   "id": "9d3191bb",
   "metadata": {},
   "source": [
    "#### If you use 'rand' the number should be less than 1 and positive"
   ]
  },
  {
   "cell_type": "code",
   "execution_count": 90,
   "id": "85ac26ac",
   "metadata": {},
   "outputs": [
    {
     "data": {
      "text/plain": [
       "array([[[0.85593669, 0.97131554, 0.7550915 , 0.24763502, 0.99467113,\n",
       "         0.3480977 ],\n",
       "        [0.50559331, 0.65710205, 0.28766985, 0.26579362, 0.03911403,\n",
       "         0.24632996],\n",
       "        [0.70678362, 0.89382644, 0.86705904, 0.25700062, 0.18185633,\n",
       "         0.94130351]],\n",
       "\n",
       "       [[0.40033379, 0.0489441 , 0.14118194, 0.10510349, 0.92112964,\n",
       "         0.47424247],\n",
       "        [0.11166059, 0.85077454, 0.06386442, 0.24885264, 0.18709201,\n",
       "         0.46991318],\n",
       "        [0.35756796, 0.48338701, 0.15808265, 0.69068406, 0.36714865,\n",
       "         0.99081243]]])"
      ]
     },
     "execution_count": 90,
     "metadata": {},
     "output_type": "execute_result"
    }
   ],
   "source": [
    "np.random.rand(2,3,6) "
   ]
  },
  {
   "cell_type": "code",
   "execution_count": 91,
   "id": "0bcffba0",
   "metadata": {},
   "outputs": [],
   "source": [
    "b = np.random.randint(6, size=(3,4))"
   ]
  },
  {
   "cell_type": "markdown",
   "id": "0a3c214a",
   "metadata": {},
   "source": [
    "### If you need a between numbers like (3-10 exclude 10) must use 'randint'"
   ]
  },
  {
   "cell_type": "code",
   "execution_count": 92,
   "id": "d125456f",
   "metadata": {},
   "outputs": [],
   "source": [
    "# 6 = ( 0 to 5 exlude 6), 3 cols 4 rows"
   ]
  },
  {
   "cell_type": "code",
   "execution_count": 93,
   "id": "3606bb2c",
   "metadata": {},
   "outputs": [
    {
     "data": {
      "text/plain": [
       "array([[4, 2, 1, 4],\n",
       "       [0, 4, 5, 0],\n",
       "       [3, 2, 3, 2]])"
      ]
     },
     "execution_count": 93,
     "metadata": {},
     "output_type": "execute_result"
    }
   ],
   "source": [
    "b"
   ]
  },
  {
   "cell_type": "code",
   "execution_count": 94,
   "id": "a7e0db40",
   "metadata": {},
   "outputs": [],
   "source": [
    "b = np.random.randint(5,20, size=(5,8))"
   ]
  },
  {
   "cell_type": "code",
   "execution_count": 95,
   "id": "01f182e3",
   "metadata": {},
   "outputs": [
    {
     "data": {
      "text/plain": [
       "array([[ 5, 17, 12, 16, 11, 13, 11, 17],\n",
       "       [12, 14, 13, 10,  5,  9, 13, 10],\n",
       "       [18, 18, 10, 16, 17, 15,  6, 19],\n",
       "       [16, 18, 19, 11,  8, 16, 15, 18],\n",
       "       [16,  9, 18, 19, 17,  6,  5, 12]])"
      ]
     },
     "execution_count": 95,
     "metadata": {},
     "output_type": "execute_result"
    }
   ],
   "source": [
    "b"
   ]
  },
  {
   "cell_type": "code",
   "execution_count": 96,
   "id": "bde82efd",
   "metadata": {},
   "outputs": [],
   "source": [
    "b = np.random.randint(-7,20, size=(5,8))"
   ]
  },
  {
   "cell_type": "code",
   "execution_count": 97,
   "id": "6c344178",
   "metadata": {},
   "outputs": [
    {
     "data": {
      "text/plain": [
       "array([[ 9,  1, 19,  2,  5, -1,  0, 14],\n",
       "       [ 3,  7, -3, -3, 19, -1, 13,  8],\n",
       "       [ 1, 18, -5, -6, -4,  5, 19, -3],\n",
       "       [-7, -5, -5,  8, -6,  4, -5,  3],\n",
       "       [-4, -5,  3,  3,  6, -6,  6, -3]])"
      ]
     },
     "execution_count": 97,
     "metadata": {},
     "output_type": "execute_result"
    }
   ],
   "source": [
    "b"
   ]
  },
  {
   "cell_type": "code",
   "execution_count": 167,
   "id": "05f6f3b6",
   "metadata": {},
   "outputs": [],
   "source": [
    "a = np.random.rand(3,6,4)\n",
    "\n",
    "# 3 = dimension/matrix, 6 = rows, 4 = columns"
   ]
  },
  {
   "cell_type": "code",
   "execution_count": 168,
   "id": "5a88e4ef",
   "metadata": {},
   "outputs": [
    {
     "data": {
      "text/plain": [
       "array([[[0.89924197, 0.87132083, 0.96383255, 0.42155331],\n",
       "        [0.02268425, 0.81810318, 0.31182139, 0.34770872],\n",
       "        [0.29268957, 0.13672846, 0.53556615, 0.39955474],\n",
       "        [0.65797303, 0.32664331, 0.04694559, 0.57678341],\n",
       "        [0.39626274, 0.74443453, 0.37857545, 0.20305173],\n",
       "        [0.92650651, 0.95547508, 0.54035337, 0.94718201]],\n",
       "\n",
       "       [[0.11946632, 0.32239857, 0.06602564, 0.5942269 ],\n",
       "        [0.38778187, 0.75961955, 0.3308926 , 0.2022531 ],\n",
       "        [0.72929757, 0.46941713, 0.95139255, 0.98606685],\n",
       "        [0.01731812, 0.21792162, 0.48905252, 0.15342142],\n",
       "        [0.67467119, 0.52765805, 0.37821523, 0.56227099],\n",
       "        [0.98073169, 0.41294964, 0.709369  , 0.95883699]],\n",
       "\n",
       "       [[0.57919689, 0.29380979, 0.96688086, 0.48892873],\n",
       "        [0.16480459, 0.75234937, 0.03485915, 0.00385751],\n",
       "        [0.96882417, 0.75441034, 0.42482826, 0.50184259],\n",
       "        [0.88650976, 0.33450811, 0.49555363, 0.41031971],\n",
       "        [0.71381549, 0.6828458 , 0.89220144, 0.63108412],\n",
       "        [0.59332759, 0.87618481, 0.34466371, 0.25392767]]])"
      ]
     },
     "execution_count": 168,
     "metadata": {},
     "output_type": "execute_result"
    }
   ],
   "source": [
    "a"
   ]
  },
  {
   "cell_type": "code",
   "execution_count": 169,
   "id": "180844ff",
   "metadata": {},
   "outputs": [],
   "source": [
    "a = np.random.randn(2,5,4)"
   ]
  },
  {
   "cell_type": "markdown",
   "id": "ba997e2b",
   "metadata": {},
   "source": [
    "#### If you use 'randn' the number should be more than 1 and it may be positive or negative"
   ]
  },
  {
   "cell_type": "code",
   "execution_count": 170,
   "id": "c9a2c6ac",
   "metadata": {},
   "outputs": [
    {
     "data": {
      "text/plain": [
       "array([[[-2.6377187 ,  0.39931372, -0.94393377,  0.69555782],\n",
       "        [ 1.35732116, -1.09839025, -0.06223388, -1.32988951],\n",
       "        [-0.96732135, -0.95521749,  1.11901131, -0.34270258],\n",
       "        [ 1.63092141,  1.13096055,  1.61439387,  0.14842692],\n",
       "        [-0.63881194, -1.36761886,  0.97557337, -0.31704372]],\n",
       "\n",
       "       [[-0.52845959, -0.06574972,  0.03783784, -0.53071379],\n",
       "        [ 0.13312543, -1.02865402,  0.44099309,  0.50955208],\n",
       "        [ 0.68408845,  0.53601411,  1.46187441,  0.40916821],\n",
       "        [ 1.40769589,  0.28826549,  0.29495194, -1.24426298],\n",
       "        [-0.7439134 ,  0.13179591, -1.63025845, -0.10023158]]])"
      ]
     },
     "execution_count": 170,
     "metadata": {},
     "output_type": "execute_result"
    }
   ],
   "source": [
    "a"
   ]
  },
  {
   "cell_type": "markdown",
   "id": "7ef8da57",
   "metadata": {},
   "source": [
    "# -- The Identitical matrix --"
   ]
  },
  {
   "cell_type": "code",
   "execution_count": 98,
   "id": "d6f6868d",
   "metadata": {},
   "outputs": [],
   "source": [
    "a = np.identity(4, dtype='int')"
   ]
  },
  {
   "cell_type": "code",
   "execution_count": 99,
   "id": "7fcb400e",
   "metadata": {},
   "outputs": [
    {
     "data": {
      "text/plain": [
       "array([[1, 0, 0, 0],\n",
       "       [0, 1, 0, 0],\n",
       "       [0, 0, 1, 0],\n",
       "       [0, 0, 0, 1]])"
      ]
     },
     "execution_count": 99,
     "metadata": {},
     "output_type": "execute_result"
    }
   ],
   "source": [
    "a"
   ]
  },
  {
   "cell_type": "markdown",
   "id": "50322f0a",
   "metadata": {},
   "source": [
    "###### # you can use eye or identity for identitical matrix"
   ]
  },
  {
   "cell_type": "code",
   "execution_count": 100,
   "id": "f3480a49",
   "metadata": {},
   "outputs": [],
   "source": [
    "a = np.eye(5)"
   ]
  },
  {
   "cell_type": "code",
   "execution_count": 101,
   "id": "82a3192f",
   "metadata": {},
   "outputs": [
    {
     "data": {
      "text/plain": [
       "array([[1., 0., 0., 0., 0.],\n",
       "       [0., 1., 0., 0., 0.],\n",
       "       [0., 0., 1., 0., 0.],\n",
       "       [0., 0., 0., 1., 0.],\n",
       "       [0., 0., 0., 0., 1.]])"
      ]
     },
     "execution_count": 101,
     "metadata": {},
     "output_type": "execute_result"
    }
   ],
   "source": [
    "a"
   ]
  },
  {
   "cell_type": "code",
   "execution_count": 102,
   "id": "9aa35637",
   "metadata": {},
   "outputs": [],
   "source": [
    "a = np.eye(9,dtype=\"int\")"
   ]
  },
  {
   "cell_type": "code",
   "execution_count": 103,
   "id": "b776b17d",
   "metadata": {},
   "outputs": [
    {
     "data": {
      "text/plain": [
       "array([[1, 0, 0, 0, 0, 0, 0, 0, 0],\n",
       "       [0, 1, 0, 0, 0, 0, 0, 0, 0],\n",
       "       [0, 0, 1, 0, 0, 0, 0, 0, 0],\n",
       "       [0, 0, 0, 1, 0, 0, 0, 0, 0],\n",
       "       [0, 0, 0, 0, 1, 0, 0, 0, 0],\n",
       "       [0, 0, 0, 0, 0, 1, 0, 0, 0],\n",
       "       [0, 0, 0, 0, 0, 0, 1, 0, 0],\n",
       "       [0, 0, 0, 0, 0, 0, 0, 1, 0],\n",
       "       [0, 0, 0, 0, 0, 0, 0, 0, 1]])"
      ]
     },
     "execution_count": 103,
     "metadata": {},
     "output_type": "execute_result"
    }
   ],
   "source": [
    "a"
   ]
  },
  {
   "cell_type": "markdown",
   "id": "16e38756",
   "metadata": {},
   "source": [
    "# -- Use linspace --"
   ]
  },
  {
   "cell_type": "code",
   "execution_count": 117,
   "id": "dd2fcd9b",
   "metadata": {},
   "outputs": [],
   "source": [
    "a = np.linspace(1,15)"
   ]
  },
  {
   "cell_type": "code",
   "execution_count": 118,
   "id": "33d6a8cc",
   "metadata": {},
   "outputs": [],
   "source": [
    "# np.linspace(start point, end point, total parts)\n"
   ]
  },
  {
   "cell_type": "markdown",
   "id": "4eb35b4e",
   "metadata": {},
   "source": [
    "# If you don't put the number of total parts, numpy will create 50 parts automatically"
   ]
  },
  {
   "cell_type": "code",
   "execution_count": 119,
   "id": "9f752ced",
   "metadata": {},
   "outputs": [
    {
     "data": {
      "text/plain": [
       "array([ 1.        ,  1.28571429,  1.57142857,  1.85714286,  2.14285714,\n",
       "        2.42857143,  2.71428571,  3.        ,  3.28571429,  3.57142857,\n",
       "        3.85714286,  4.14285714,  4.42857143,  4.71428571,  5.        ,\n",
       "        5.28571429,  5.57142857,  5.85714286,  6.14285714,  6.42857143,\n",
       "        6.71428571,  7.        ,  7.28571429,  7.57142857,  7.85714286,\n",
       "        8.14285714,  8.42857143,  8.71428571,  9.        ,  9.28571429,\n",
       "        9.57142857,  9.85714286, 10.14285714, 10.42857143, 10.71428571,\n",
       "       11.        , 11.28571429, 11.57142857, 11.85714286, 12.14285714,\n",
       "       12.42857143, 12.71428571, 13.        , 13.28571429, 13.57142857,\n",
       "       13.85714286, 14.14285714, 14.42857143, 14.71428571, 15.        ])"
      ]
     },
     "execution_count": 119,
     "metadata": {},
     "output_type": "execute_result"
    }
   ],
   "source": [
    "a"
   ]
  },
  {
   "cell_type": "code",
   "execution_count": 124,
   "id": "b446345b",
   "metadata": {},
   "outputs": [],
   "source": [
    "a = np.linspace(1,10,5, dtype=\"int\")"
   ]
  },
  {
   "cell_type": "code",
   "execution_count": 125,
   "id": "105962c4",
   "metadata": {},
   "outputs": [
    {
     "data": {
      "text/plain": [
       "array([ 1,  3,  5,  7, 10])"
      ]
     },
     "execution_count": 125,
     "metadata": {},
     "output_type": "execute_result"
    }
   ],
   "source": [
    "a"
   ]
  },
  {
   "cell_type": "markdown",
   "id": "9b17ec9c",
   "metadata": {},
   "source": [
    "# Use arange in numpy"
   ]
  },
  {
   "cell_type": "code",
   "execution_count": null,
   "id": "59bcb359",
   "metadata": {},
   "outputs": [],
   "source": [
    "# a = np.arange(start point, end point, step size)"
   ]
  },
  {
   "cell_type": "code",
   "execution_count": 126,
   "id": "64e93ff9",
   "metadata": {},
   "outputs": [],
   "source": [
    "a = np.arange(1,20,3)"
   ]
  },
  {
   "cell_type": "code",
   "execution_count": null,
   "id": "76c01bdc",
   "metadata": {},
   "outputs": [],
   "source": [
    "# if there is no step size it will show 1 - 19"
   ]
  },
  {
   "cell_type": "code",
   "execution_count": 128,
   "id": "d7f56d71",
   "metadata": {},
   "outputs": [
    {
     "name": "stdout",
     "output_type": "stream",
     "text": [
      "[ 1  4  7 10 13 16 19]\n"
     ]
    }
   ],
   "source": [
    "print(a)\n"
   ]
  },
  {
   "cell_type": "code",
   "execution_count": 129,
   "id": "d28dd45f",
   "metadata": {},
   "outputs": [],
   "source": [
    "a = np.arange(6,30)"
   ]
  },
  {
   "cell_type": "code",
   "execution_count": 130,
   "id": "03550c72",
   "metadata": {},
   "outputs": [
    {
     "data": {
      "text/plain": [
       "array([ 6,  7,  8,  9, 10, 11, 12, 13, 14, 15, 16, 17, 18, 19, 20, 21, 22,\n",
       "       23, 24, 25, 26, 27, 28, 29])"
      ]
     },
     "execution_count": 130,
     "metadata": {},
     "output_type": "execute_result"
    }
   ],
   "source": [
    "a"
   ]
  },
  {
   "cell_type": "markdown",
   "id": "423cf5e4",
   "metadata": {},
   "source": [
    "### Use logspace in numpy"
   ]
  },
  {
   "cell_type": "code",
   "execution_count": 140,
   "id": "7e4fe6cc",
   "metadata": {},
   "outputs": [],
   "source": [
    "a = np.logspace(1,23,10)"
   ]
  },
  {
   "cell_type": "markdown",
   "id": "07a84418",
   "metadata": {},
   "source": [
    "##### # 10 is total parts here"
   ]
  },
  {
   "cell_type": "code",
   "execution_count": 141,
   "id": "33b42520",
   "metadata": {},
   "outputs": [
    {
     "data": {
      "text/plain": [
       "array([1.00000000e+01, 2.78255940e+03, 7.74263683e+05, 2.15443469e+08,\n",
       "       5.99484250e+10, 1.66810054e+13, 4.64158883e+15, 1.29154967e+18,\n",
       "       3.59381366e+20, 1.00000000e+23])"
      ]
     },
     "execution_count": 141,
     "metadata": {},
     "output_type": "execute_result"
    }
   ],
   "source": [
    "a"
   ]
  },
  {
   "cell_type": "code",
   "execution_count": 142,
   "id": "eae1ce99",
   "metadata": {},
   "outputs": [
    {
     "data": {
      "text/plain": [
       "10.0"
      ]
     },
     "execution_count": 142,
     "metadata": {},
     "output_type": "execute_result"
    }
   ],
   "source": [
    "a[0]"
   ]
  },
  {
   "cell_type": "code",
   "execution_count": 143,
   "id": "205905c4",
   "metadata": {},
   "outputs": [
    {
     "data": {
      "text/plain": [
       "4641588833612792.0"
      ]
     },
     "execution_count": 143,
     "metadata": {},
     "output_type": "execute_result"
    }
   ],
   "source": [
    "a[6]"
   ]
  },
  {
   "cell_type": "markdown",
   "id": "33c03c19",
   "metadata": {},
   "source": [
    "###### # After dot(.) how many numbers you want to show\n",
    "    use ('%.4f' %a[index number]) \n",
    "    4 = total numbers after dot(.) f = float"
   ]
  },
  {
   "cell_type": "code",
   "execution_count": 147,
   "id": "4cca8cfa",
   "metadata": {},
   "outputs": [
    {
     "name": "stdout",
     "output_type": "stream",
     "text": [
      "16681005372000.6250\n"
     ]
    }
   ],
   "source": [
    "print('%.4f' %a[5])"
   ]
  },
  {
   "cell_type": "markdown",
   "id": "65b513bd",
   "metadata": {},
   "source": [
    "#### Create array from list in numpy"
   ]
  },
  {
   "cell_type": "code",
   "execution_count": 151,
   "id": "f72d26a3",
   "metadata": {},
   "outputs": [],
   "source": [
    "a  = [4,67,23,1,90,3]"
   ]
  },
  {
   "cell_type": "code",
   "execution_count": 155,
   "id": "882160e6",
   "metadata": {},
   "outputs": [],
   "source": [
    "arr = np.array(a)"
   ]
  },
  {
   "cell_type": "code",
   "execution_count": 156,
   "id": "e2731f3d",
   "metadata": {},
   "outputs": [
    {
     "data": {
      "text/plain": [
       "array([ 4, 67, 23,  1, 90,  3])"
      ]
     },
     "execution_count": 156,
     "metadata": {},
     "output_type": "execute_result"
    }
   ],
   "source": [
    "arr"
   ]
  },
  {
   "cell_type": "code",
   "execution_count": 157,
   "id": "18ba04e7",
   "metadata": {},
   "outputs": [
    {
     "data": {
      "text/plain": [
       "array([[2, 4, 5, 6, 3],\n",
       "       [9, 2, 5, 7, 1]])"
      ]
     },
     "execution_count": 157,
     "metadata": {},
     "output_type": "execute_result"
    }
   ],
   "source": [
    "# Create 2 D array from list\n",
    "# Must the element per list should be equal quantity\n",
    "\n",
    "a = [[2,4,5,6,3],[9,2,5,7,1]]\n",
    "np.array(a)"
   ]
  },
  {
   "cell_type": "markdown",
   "id": "ae9ccf04",
   "metadata": {},
   "source": [
    "#### Create Diagonal matrix in numpy"
   ]
  },
  {
   "cell_type": "code",
   "execution_count": 161,
   "id": "2cb91725",
   "metadata": {},
   "outputs": [],
   "source": [
    "a = np.diag([4,5,8]) # 3 elements here for this we can 3 columns 3 rows"
   ]
  },
  {
   "cell_type": "code",
   "execution_count": 162,
   "id": "8ec83127",
   "metadata": {},
   "outputs": [
    {
     "data": {
      "text/plain": [
       "array([[4, 0, 0],\n",
       "       [0, 5, 0],\n",
       "       [0, 0, 8]])"
      ]
     },
     "execution_count": 162,
     "metadata": {},
     "output_type": "execute_result"
    }
   ],
   "source": [
    "a"
   ]
  },
  {
   "cell_type": "code",
   "execution_count": 163,
   "id": "ce8e5ff8",
   "metadata": {},
   "outputs": [],
   "source": [
    "a = np.diag([12,34,56,78])"
   ]
  },
  {
   "cell_type": "code",
   "execution_count": 164,
   "id": "2e071d4a",
   "metadata": {},
   "outputs": [
    {
     "data": {
      "text/plain": [
       "array([[12,  0,  0,  0],\n",
       "       [ 0, 34,  0,  0],\n",
       "       [ 0,  0, 56,  0],\n",
       "       [ 0,  0,  0, 78]])"
      ]
     },
     "execution_count": 164,
     "metadata": {},
     "output_type": "execute_result"
    }
   ],
   "source": [
    "a"
   ]
  },
  {
   "cell_type": "markdown",
   "id": "b3a49ee1",
   "metadata": {},
   "source": [
    "## Find elements with shape"
   ]
  },
  {
   "cell_type": "code",
   "execution_count": 176,
   "id": "7223569d",
   "metadata": {},
   "outputs": [],
   "source": [
    "a  = np.array([4,67,23,1,90,3])\n"
   ]
  },
  {
   "cell_type": "code",
   "execution_count": null,
   "id": "fa6653b4",
   "metadata": {},
   "outputs": [],
   "source": [
    "# Total elements is 6"
   ]
  },
  {
   "cell_type": "code",
   "execution_count": 177,
   "id": "212dbfb8",
   "metadata": {},
   "outputs": [
    {
     "data": {
      "text/plain": [
       "(6,)"
      ]
     },
     "execution_count": 177,
     "metadata": {},
     "output_type": "execute_result"
    }
   ],
   "source": [
    "a.shape"
   ]
  },
  {
   "cell_type": "code",
   "execution_count": 178,
   "id": "b2f3a8e5",
   "metadata": {},
   "outputs": [],
   "source": [
    "a = np.diag([12,34,56,78])"
   ]
  },
  {
   "cell_type": "code",
   "execution_count": 179,
   "id": "1e58e89b",
   "metadata": {},
   "outputs": [
    {
     "data": {
      "text/plain": [
       "array([[12,  0,  0,  0],\n",
       "       [ 0, 34,  0,  0],\n",
       "       [ 0,  0, 56,  0],\n",
       "       [ 0,  0,  0, 78]])"
      ]
     },
     "execution_count": 179,
     "metadata": {},
     "output_type": "execute_result"
    }
   ],
   "source": [
    "a"
   ]
  },
  {
   "cell_type": "markdown",
   "id": "8729a783",
   "metadata": {},
   "source": [
    "### 4 columns and 4 rows"
   ]
  },
  {
   "cell_type": "code",
   "execution_count": 180,
   "id": "f1dba609",
   "metadata": {},
   "outputs": [
    {
     "data": {
      "text/plain": [
       "(4, 4)"
      ]
     },
     "execution_count": 180,
     "metadata": {},
     "output_type": "execute_result"
    }
   ],
   "source": [
    "a.shape"
   ]
  },
  {
   "cell_type": "code",
   "execution_count": 182,
   "id": "f5527967",
   "metadata": {},
   "outputs": [
    {
     "data": {
      "text/plain": [
       "dtype('int32')"
      ]
     },
     "execution_count": 182,
     "metadata": {},
     "output_type": "execute_result"
    }
   ],
   "source": [
    "a.dtype"
   ]
  },
  {
   "cell_type": "markdown",
   "id": "f10621f4",
   "metadata": {},
   "source": [
    "## Find location in memory"
   ]
  },
  {
   "cell_type": "code",
   "execution_count": 183,
   "id": "bb8a5122",
   "metadata": {},
   "outputs": [
    {
     "data": {
      "text/plain": [
       "<memory at 0x0000017E089C6450>"
      ]
     },
     "execution_count": 183,
     "metadata": {},
     "output_type": "execute_result"
    }
   ],
   "source": [
    "a.data"
   ]
  },
  {
   "cell_type": "code",
   "execution_count": 187,
   "id": "187a11d5",
   "metadata": {},
   "outputs": [
    {
     "data": {
      "text/plain": [
       "<memory at 0x0000017E08A2DB80>"
      ]
     },
     "execution_count": 187,
     "metadata": {},
     "output_type": "execute_result"
    }
   ],
   "source": [
    "b = np.array([2,4,5,7])\n",
    "b.data"
   ]
  },
  {
   "cell_type": "markdown",
   "id": "4b96f082",
   "metadata": {},
   "source": [
    "## Array Indexing in numpy"
   ]
  },
  {
   "cell_type": "code",
   "execution_count": 214,
   "id": "32a1742c",
   "metadata": {},
   "outputs": [],
   "source": [
    "a = np.linspace(2,3,6)"
   ]
  },
  {
   "cell_type": "code",
   "execution_count": 215,
   "id": "c4e3fc88",
   "metadata": {},
   "outputs": [],
   "source": [
    "# For linspace don't use []"
   ]
  },
  {
   "cell_type": "code",
   "execution_count": 216,
   "id": "b499f5c4",
   "metadata": {},
   "outputs": [
    {
     "data": {
      "text/plain": [
       "array([2. , 2.2, 2.4, 2.6, 2.8, 3. ])"
      ]
     },
     "execution_count": 216,
     "metadata": {},
     "output_type": "execute_result"
    }
   ],
   "source": [
    "a"
   ]
  },
  {
   "cell_type": "markdown",
   "id": "c98550cd",
   "metadata": {},
   "source": [
    "##### end = ' ' it may be space or anything"
   ]
  },
  {
   "cell_type": "code",
   "execution_count": 222,
   "id": "d19a8237",
   "metadata": {},
   "outputs": [
    {
     "name": "stdout",
     "output_type": "stream",
     "text": [
      "2.0 2.2 2.4 2.6 2.8 3.0 "
     ]
    }
   ],
   "source": [
    "for i in a:\n",
    "    print(i, end = ' ')"
   ]
  },
  {
   "cell_type": "code",
   "execution_count": 221,
   "id": "733892d2",
   "metadata": {},
   "outputs": [
    {
     "name": "stdout",
     "output_type": "stream",
     "text": [
      "2.0|2.2|2.4|2.6|2.8|3.0|"
     ]
    }
   ],
   "source": [
    "for i in a:\n",
    "    print(i, end = '|')"
   ]
  },
  {
   "cell_type": "code",
   "execution_count": 225,
   "id": "108d3c08",
   "metadata": {},
   "outputs": [],
   "source": [
    "b = np.array([[3,5,7,8,1,6,9],[8,5,6,98,2,3,1],[23,56,78,12,3,4,7]])"
   ]
  },
  {
   "cell_type": "code",
   "execution_count": 226,
   "id": "42fe9cd6",
   "metadata": {},
   "outputs": [
    {
     "data": {
      "text/plain": [
       "array([[ 3,  5,  7,  8,  1,  6,  9],\n",
       "       [ 8,  5,  6, 98,  2,  3,  1],\n",
       "       [23, 56, 78, 12,  3,  4,  7]])"
      ]
     },
     "execution_count": 226,
     "metadata": {},
     "output_type": "execute_result"
    }
   ],
   "source": [
    "b"
   ]
  },
  {
   "cell_type": "code",
   "execution_count": 246,
   "id": "9cf2504d",
   "metadata": {},
   "outputs": [
    {
     "name": "stdout",
     "output_type": "stream",
     "text": [
      "[3 5 7 8 1 6 9],[ 8  5  6 98  2  3  1],[23 56 78 12  3  4  7],"
     ]
    }
   ],
   "source": [
    "for arr in b:\n",
    "    print(arr, end = ',')"
   ]
  },
  {
   "cell_type": "markdown",
   "id": "76361772",
   "metadata": {},
   "source": [
    "## Second way for printing index"
   ]
  },
  {
   "cell_type": "code",
   "execution_count": 235,
   "id": "75cc1c87",
   "metadata": {},
   "outputs": [
    {
     "data": {
      "text/plain": [
       "array([[ 3,  5,  7,  8,  1,  6,  9],\n",
       "       [ 8,  5,  6, 98,  2,  3,  1],\n",
       "       [23, 56, 78, 12,  3,  4,  7]])"
      ]
     },
     "execution_count": 235,
     "metadata": {},
     "output_type": "execute_result"
    }
   ],
   "source": [
    "b"
   ]
  },
  {
   "cell_type": "code",
   "execution_count": 242,
   "id": "0dffa6f3",
   "metadata": {},
   "outputs": [],
   "source": [
    "a = np.linspace(2,3,6)"
   ]
  },
  {
   "cell_type": "code",
   "execution_count": 243,
   "id": "fcea838d",
   "metadata": {},
   "outputs": [
    {
     "data": {
      "text/plain": [
       "array([2. , 2.2, 2.4, 2.6, 2.8, 3. ])"
      ]
     },
     "execution_count": 243,
     "metadata": {},
     "output_type": "execute_result"
    }
   ],
   "source": [
    "a"
   ]
  },
  {
   "cell_type": "code",
   "execution_count": 244,
   "id": "a12e4ec7",
   "metadata": {},
   "outputs": [
    {
     "name": "stdout",
     "output_type": "stream",
     "text": [
      "0,1,2,3,4,5,"
     ]
    }
   ],
   "source": [
    "for m in range(len(a)):\n",
    "    print(m, end = ',')"
   ]
  },
  {
   "cell_type": "markdown",
   "id": "f76b51ee",
   "metadata": {},
   "source": [
    "## ReShape function in numpy"
   ]
  },
  {
   "cell_type": "code",
   "execution_count": 251,
   "id": "e0e05d9a",
   "metadata": {},
   "outputs": [],
   "source": [
    "a = np.array([[2,4,5,6],[6,7,8,9],[2,5,8,4],[20,1,5,13]])"
   ]
  },
  {
   "cell_type": "code",
   "execution_count": 252,
   "id": "bc066e13",
   "metadata": {},
   "outputs": [
    {
     "data": {
      "text/plain": [
       "array([[ 2,  4,  5,  6],\n",
       "       [ 6,  7,  8,  9],\n",
       "       [ 2,  5,  8,  4],\n",
       "       [20,  1,  5, 13]])"
      ]
     },
     "execution_count": 252,
     "metadata": {},
     "output_type": "execute_result"
    }
   ],
   "source": [
    "a"
   ]
  },
  {
   "cell_type": "code",
   "execution_count": 253,
   "id": "82ec075b",
   "metadata": {},
   "outputs": [
    {
     "data": {
      "text/plain": [
       "(4, 4)"
      ]
     },
     "execution_count": 253,
     "metadata": {},
     "output_type": "execute_result"
    }
   ],
   "source": [
    "a.shape"
   ]
  },
  {
   "cell_type": "markdown",
   "id": "26b92195",
   "metadata": {},
   "source": [
    "#### Before go to ReShape must shape it and check the countability"
   ]
  },
  {
   "cell_type": "markdown",
   "id": "45f83321",
   "metadata": {},
   "source": [
    "##### The numbers of shape (4 multiply 4) = 16 which must be same 16 at reshape ( it may be like (8 multiply 2))"
   ]
  },
  {
   "cell_type": "code",
   "execution_count": 254,
   "id": "f3f49914",
   "metadata": {},
   "outputs": [
    {
     "data": {
      "text/plain": [
       "array([[ 2,  4,  5,  6,  6,  7,  8,  9],\n",
       "       [ 2,  5,  8,  4, 20,  1,  5, 13]])"
      ]
     },
     "execution_count": 254,
     "metadata": {},
     "output_type": "execute_result"
    }
   ],
   "source": [
    "a.reshape(2,8)"
   ]
  },
  {
   "cell_type": "markdown",
   "id": "a101145f",
   "metadata": {},
   "source": [
    "# Use 'ravel' function in numpy"
   ]
  },
  {
   "cell_type": "markdown",
   "id": "363c006e",
   "metadata": {},
   "source": [
    "### It is used to make 2 or 3 dimensional array in 1 dimensional array"
   ]
  },
  {
   "cell_type": "code",
   "execution_count": 255,
   "id": "e9f11622",
   "metadata": {},
   "outputs": [
    {
     "data": {
      "text/plain": [
       "array([[ 2,  4,  5,  6],\n",
       "       [ 6,  7,  8,  9],\n",
       "       [ 2,  5,  8,  4],\n",
       "       [20,  1,  5, 13]])"
      ]
     },
     "execution_count": 255,
     "metadata": {},
     "output_type": "execute_result"
    }
   ],
   "source": [
    "a"
   ]
  },
  {
   "cell_type": "code",
   "execution_count": 257,
   "id": "b6ad593d",
   "metadata": {},
   "outputs": [
    {
     "data": {
      "text/plain": [
       "array([ 2,  4,  5,  6,  6,  7,  8,  9,  2,  5,  8,  4, 20,  1,  5, 13])"
      ]
     },
     "execution_count": 257,
     "metadata": {},
     "output_type": "execute_result"
    }
   ],
   "source": [
    "a.ravel()"
   ]
  },
  {
   "cell_type": "markdown",
   "id": "e7f11763",
   "metadata": {},
   "source": [
    "# Arithmetic in numpy"
   ]
  },
  {
   "cell_type": "code",
   "execution_count": 258,
   "id": "098b6f9d",
   "metadata": {},
   "outputs": [],
   "source": [
    "a = np.arange(1,20)"
   ]
  },
  {
   "cell_type": "code",
   "execution_count": 259,
   "id": "5c97d0f0",
   "metadata": {},
   "outputs": [
    {
     "data": {
      "text/plain": [
       "array([ 1,  2,  3,  4,  5,  6,  7,  8,  9, 10, 11, 12, 13, 14, 15, 16, 17,\n",
       "       18, 19])"
      ]
     },
     "execution_count": 259,
     "metadata": {},
     "output_type": "execute_result"
    }
   ],
   "source": [
    "a"
   ]
  },
  {
   "cell_type": "code",
   "execution_count": 260,
   "id": "2d936af2",
   "metadata": {},
   "outputs": [
    {
     "data": {
      "text/plain": [
       "array([ 2,  4,  6,  8, 10, 12, 14, 16, 18, 20, 22, 24, 26, 28, 30, 32, 34,\n",
       "       36, 38])"
      ]
     },
     "execution_count": 260,
     "metadata": {},
     "output_type": "execute_result"
    }
   ],
   "source": [
    "a+a"
   ]
  },
  {
   "cell_type": "code",
   "execution_count": 261,
   "id": "15537fcb",
   "metadata": {},
   "outputs": [
    {
     "data": {
      "text/plain": [
       "array([0, 0, 0, 0, 0, 0, 0, 0, 0, 0, 0, 0, 0, 0, 0, 0, 0, 0, 0])"
      ]
     },
     "execution_count": 261,
     "metadata": {},
     "output_type": "execute_result"
    }
   ],
   "source": [
    "a-a"
   ]
  },
  {
   "cell_type": "code",
   "execution_count": 262,
   "id": "873afe30",
   "metadata": {},
   "outputs": [
    {
     "data": {
      "text/plain": [
       "array([  1,   4,   9,  16,  25,  36,  49,  64,  81, 100, 121, 144, 169,\n",
       "       196, 225, 256, 289, 324, 361])"
      ]
     },
     "execution_count": 262,
     "metadata": {},
     "output_type": "execute_result"
    }
   ],
   "source": [
    "a*a"
   ]
  },
  {
   "cell_type": "code",
   "execution_count": 263,
   "id": "c2ecd45a",
   "metadata": {},
   "outputs": [
    {
     "data": {
      "text/plain": [
       "array([1., 1., 1., 1., 1., 1., 1., 1., 1., 1., 1., 1., 1., 1., 1., 1., 1.,\n",
       "       1., 1.])"
      ]
     },
     "execution_count": 263,
     "metadata": {},
     "output_type": "execute_result"
    }
   ],
   "source": [
    "a/a"
   ]
  },
  {
   "cell_type": "markdown",
   "id": "002d18fa",
   "metadata": {},
   "source": [
    "## 0/0 is undefined if there is any index of 0"
   ]
  },
  {
   "cell_type": "code",
   "execution_count": 265,
   "id": "d1c4f45e",
   "metadata": {},
   "outputs": [],
   "source": [
    "\n",
    "a = np.arange(0,20)"
   ]
  },
  {
   "cell_type": "code",
   "execution_count": 266,
   "id": "7e7b0c9c",
   "metadata": {},
   "outputs": [
    {
     "data": {
      "text/plain": [
       "array([ 0,  1,  2,  3,  4,  5,  6,  7,  8,  9, 10, 11, 12, 13, 14, 15, 16,\n",
       "       17, 18, 19])"
      ]
     },
     "execution_count": 266,
     "metadata": {},
     "output_type": "execute_result"
    }
   ],
   "source": [
    "a"
   ]
  },
  {
   "cell_type": "code",
   "execution_count": 267,
   "id": "40ac8162",
   "metadata": {},
   "outputs": [
    {
     "data": {
      "text/plain": [
       "array([0, 0, 0, 0, 0, 0, 0, 0, 0, 0, 0, 0, 0, 0, 0, 0, 0, 0, 0, 0])"
      ]
     },
     "execution_count": 267,
     "metadata": {},
     "output_type": "execute_result"
    }
   ],
   "source": [
    "a-a"
   ]
  },
  {
   "cell_type": "code",
   "execution_count": 269,
   "id": "fa518942",
   "metadata": {},
   "outputs": [],
   "source": [
    " # a/a , that means 0/0 = nan which is undefined"
   ]
  },
  {
   "cell_type": "markdown",
   "id": "1bd5c68e",
   "metadata": {},
   "source": [
    "## If the 2 array's dimension are not same"
   ]
  },
  {
   "cell_type": "code",
   "execution_count": 270,
   "id": "3d7c01cd",
   "metadata": {},
   "outputs": [],
   "source": [
    "a = np.array([[2,4,5,6],[6,7,8,9],[2,5,8,4],[20,1,5,13]])"
   ]
  },
  {
   "cell_type": "code",
   "execution_count": 271,
   "id": "4402b778",
   "metadata": {},
   "outputs": [
    {
     "data": {
      "text/plain": [
       "array([[ 2,  4,  5,  6],\n",
       "       [ 6,  7,  8,  9],\n",
       "       [ 2,  5,  8,  4],\n",
       "       [20,  1,  5, 13]])"
      ]
     },
     "execution_count": 271,
     "metadata": {},
     "output_type": "execute_result"
    }
   ],
   "source": [
    "a"
   ]
  },
  {
   "cell_type": "code",
   "execution_count": 272,
   "id": "4419d6d2",
   "metadata": {},
   "outputs": [
    {
     "data": {
      "text/plain": [
       "(4, 4)"
      ]
     },
     "execution_count": 272,
     "metadata": {},
     "output_type": "execute_result"
    }
   ],
   "source": [
    "a.shape"
   ]
  },
  {
   "cell_type": "code",
   "execution_count": 274,
   "id": "fd3d8ccc",
   "metadata": {},
   "outputs": [],
   "source": [
    "b = a.reshape(8,2)"
   ]
  },
  {
   "cell_type": "code",
   "execution_count": 275,
   "id": "771fa0c0",
   "metadata": {},
   "outputs": [
    {
     "data": {
      "text/plain": [
       "array([[ 2,  4],\n",
       "       [ 5,  6],\n",
       "       [ 6,  7],\n",
       "       [ 8,  9],\n",
       "       [ 2,  5],\n",
       "       [ 8,  4],\n",
       "       [20,  1],\n",
       "       [ 5, 13]])"
      ]
     },
     "execution_count": 275,
     "metadata": {},
     "output_type": "execute_result"
    }
   ],
   "source": [
    "b"
   ]
  },
  {
   "cell_type": "markdown",
   "id": "322d34c4",
   "metadata": {},
   "source": [
    "### In this situaton make 2 arrays same dimension like both must be (8 multiply 2) or (4 multiply 4)"
   ]
  },
  {
   "cell_type": "code",
   "execution_count": 278,
   "id": "52bd6771",
   "metadata": {},
   "outputs": [],
   "source": [
    "b = b.reshape(4,4)"
   ]
  },
  {
   "cell_type": "code",
   "execution_count": 279,
   "id": "3d2597cd",
   "metadata": {},
   "outputs": [
    {
     "data": {
      "text/plain": [
       "array([[ 2,  4,  5,  6],\n",
       "       [ 6,  7,  8,  9],\n",
       "       [ 2,  5,  8,  4],\n",
       "       [20,  1,  5, 13]])"
      ]
     },
     "execution_count": 279,
     "metadata": {},
     "output_type": "execute_result"
    }
   ],
   "source": [
    "b"
   ]
  },
  {
   "cell_type": "code",
   "execution_count": 280,
   "id": "09d254fb",
   "metadata": {},
   "outputs": [
    {
     "data": {
      "text/plain": [
       "array([[ 4,  8, 10, 12],\n",
       "       [12, 14, 16, 18],\n",
       "       [ 4, 10, 16,  8],\n",
       "       [40,  2, 10, 26]])"
      ]
     },
     "execution_count": 280,
     "metadata": {},
     "output_type": "execute_result"
    }
   ],
   "source": [
    "a+b"
   ]
  },
  {
   "cell_type": "code",
   "execution_count": 281,
   "id": "efe2e7b2",
   "metadata": {},
   "outputs": [
    {
     "data": {
      "text/plain": [
       "array([[0, 0, 0, 0],\n",
       "       [0, 0, 0, 0],\n",
       "       [0, 0, 0, 0],\n",
       "       [0, 0, 0, 0]])"
      ]
     },
     "execution_count": 281,
     "metadata": {},
     "output_type": "execute_result"
    }
   ],
   "source": [
    "a-b"
   ]
  },
  {
   "cell_type": "code",
   "execution_count": 282,
   "id": "ec048228",
   "metadata": {},
   "outputs": [
    {
     "data": {
      "text/plain": [
       "array([[1., 1., 1., 1.],\n",
       "       [1., 1., 1., 1.],\n",
       "       [1., 1., 1., 1.],\n",
       "       [1., 1., 1., 1.]])"
      ]
     },
     "execution_count": 282,
     "metadata": {},
     "output_type": "execute_result"
    }
   ],
   "source": [
    "a/b"
   ]
  },
  {
   "cell_type": "code",
   "execution_count": 283,
   "id": "e9df8052",
   "metadata": {},
   "outputs": [
    {
     "data": {
      "text/plain": [
       "array([[  4,  16,  25,  36],\n",
       "       [ 36,  49,  64,  81],\n",
       "       [  4,  25,  64,  16],\n",
       "       [400,   1,  25, 169]])"
      ]
     },
     "execution_count": 283,
     "metadata": {},
     "output_type": "execute_result"
    }
   ],
   "source": [
    "a*b"
   ]
  },
  {
   "cell_type": "markdown",
   "id": "ee344668",
   "metadata": {},
   "source": [
    "## If you need to sum following row or column"
   ]
  },
  {
   "cell_type": "code",
   "execution_count": 284,
   "id": "c3f0a7cd",
   "metadata": {},
   "outputs": [],
   "source": [
    "c = a+b"
   ]
  },
  {
   "cell_type": "code",
   "execution_count": 285,
   "id": "d003f2e9",
   "metadata": {},
   "outputs": [
    {
     "data": {
      "text/plain": [
       "array([[ 4,  8, 10, 12],\n",
       "       [12, 14, 16, 18],\n",
       "       [ 4, 10, 16,  8],\n",
       "       [40,  2, 10, 26]])"
      ]
     },
     "execution_count": 285,
     "metadata": {},
     "output_type": "execute_result"
    }
   ],
   "source": [
    "c"
   ]
  },
  {
   "cell_type": "markdown",
   "id": "a1aee8d7",
   "metadata": {},
   "source": [
    "### axix = 0, it is for rows"
   ]
  },
  {
   "cell_type": "code",
   "execution_count": 286,
   "id": "c6ad04c0",
   "metadata": {},
   "outputs": [
    {
     "data": {
      "text/plain": [
       "array([60, 34, 52, 64])"
      ]
     },
     "execution_count": 286,
     "metadata": {},
     "output_type": "execute_result"
    }
   ],
   "source": [
    "c.sum(axis=0)"
   ]
  },
  {
   "cell_type": "markdown",
   "id": "383368cb",
   "metadata": {},
   "source": [
    "### axis = 1 , it is for columns"
   ]
  },
  {
   "cell_type": "code",
   "execution_count": 287,
   "id": "35340f04",
   "metadata": {},
   "outputs": [
    {
     "data": {
      "text/plain": [
       "array([34, 60, 38, 78])"
      ]
     },
     "execution_count": 287,
     "metadata": {},
     "output_type": "execute_result"
    }
   ],
   "source": [
    "c.sum(axis=1)"
   ]
  },
  {
   "cell_type": "code",
   "execution_count": null,
   "id": "e491cf24",
   "metadata": {},
   "outputs": [],
   "source": []
  }
 ],
 "metadata": {
  "kernelspec": {
   "display_name": "Python 3",
   "language": "python",
   "name": "python3"
  },
  "language_info": {
   "codemirror_mode": {
    "name": "ipython",
    "version": 3
   },
   "file_extension": ".py",
   "mimetype": "text/x-python",
   "name": "python",
   "nbconvert_exporter": "python",
   "pygments_lexer": "ipython3",
   "version": "3.8.8"
  }
 },
 "nbformat": 4,
 "nbformat_minor": 5
}
